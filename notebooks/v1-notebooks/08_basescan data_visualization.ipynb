{
 "cells": [
  {
   "cell_type": "code",
   "execution_count": 32,
   "id": "66a7e8a1-1492-4347-8bf2-34e83b0b978d",
   "metadata": {},
   "outputs": [
    {
     "data": {
      "text/html": [
       "<div>\n",
       "<style scoped>\n",
       "    .dataframe tbody tr th:only-of-type {\n",
       "        vertical-align: middle;\n",
       "    }\n",
       "\n",
       "    .dataframe tbody tr th {\n",
       "        vertical-align: top;\n",
       "    }\n",
       "\n",
       "    .dataframe thead th {\n",
       "        text-align: right;\n",
       "    }\n",
       "</style>\n",
       "<table border=\"1\" class=\"dataframe\">\n",
       "  <thead>\n",
       "    <tr style=\"text-align: right;\">\n",
       "      <th></th>\n",
       "      <th>blockNumber</th>\n",
       "      <th>timeStamp</th>\n",
       "      <th>hash</th>\n",
       "      <th>nonce</th>\n",
       "      <th>blockHash</th>\n",
       "      <th>from</th>\n",
       "      <th>contractAddress</th>\n",
       "      <th>to</th>\n",
       "      <th>value</th>\n",
       "      <th>tokenName</th>\n",
       "      <th>tokenSymbol</th>\n",
       "      <th>tokenDecimal</th>\n",
       "      <th>transactionIndex</th>\n",
       "      <th>gas</th>\n",
       "      <th>gasPrice</th>\n",
       "      <th>gasUsed</th>\n",
       "      <th>cumulativeGasUsed</th>\n",
       "      <th>input</th>\n",
       "      <th>confirmations</th>\n",
       "    </tr>\n",
       "  </thead>\n",
       "  <tbody>\n",
       "    <tr>\n",
       "      <th>0</th>\n",
       "      <td>30093180</td>\n",
       "      <td>2025-05-11 15:01:47</td>\n",
       "      <td>0x14dac838467440b5f25c477757512eb348de92b7ccf7...</td>\n",
       "      <td>416844</td>\n",
       "      <td>0x0ee4cef68c21289009eeb9509e0dc366399ebf4612ba...</td>\n",
       "      <td>0x0000000000000000000000000000000000000000</td>\n",
       "      <td>0x3568c7a4f7545805e379c264303239781b4e9a79</td>\n",
       "      <td>0x8fed80cfb986a7d04b6784bc6fa6f589cecdc3dd</td>\n",
       "      <td>2.000000e-09</td>\n",
       "      <td>Cerebrum DAO Token</td>\n",
       "      <td>NEURON</td>\n",
       "      <td>18</td>\n",
       "      <td>1</td>\n",
       "      <td>517494</td>\n",
       "      <td>0</td>\n",
       "      <td>104767</td>\n",
       "      <td>159311</td>\n",
       "      <td>deprecated</td>\n",
       "      <td>5265</td>\n",
       "    </tr>\n",
       "    <tr>\n",
       "      <th>1</th>\n",
       "      <td>30066113</td>\n",
       "      <td>2025-05-10 23:59:33</td>\n",
       "      <td>0x1edcd1a557e07c720f129643e6376811953e299673b5...</td>\n",
       "      <td>31</td>\n",
       "      <td>0x5a0fc9155e6ede94cd0742d137255a5e191172c2c22f...</td>\n",
       "      <td>0xdb6f1920a889355780af7570773609bd8cb1f498</td>\n",
       "      <td>0x3568c7a4f7545805e379c264303239781b4e9a79</td>\n",
       "      <td>0x3391aaaa8dbdd32b38403693ac58a6a9e3d75410</td>\n",
       "      <td>1.003160e-12</td>\n",
       "      <td>Cerebrum DAO Token</td>\n",
       "      <td>NEURON</td>\n",
       "      <td>18</td>\n",
       "      <td>36</td>\n",
       "      <td>654823</td>\n",
       "      <td>12802464</td>\n",
       "      <td>380875</td>\n",
       "      <td>7202101</td>\n",
       "      <td>deprecated</td>\n",
       "      <td>32332</td>\n",
       "    </tr>\n",
       "    <tr>\n",
       "      <th>2</th>\n",
       "      <td>30066113</td>\n",
       "      <td>2025-05-10 23:59:33</td>\n",
       "      <td>0x1edcd1a557e07c720f129643e6376811953e299673b5...</td>\n",
       "      <td>31</td>\n",
       "      <td>0x5a0fc9155e6ede94cd0742d137255a5e191172c2c22f...</td>\n",
       "      <td>0x77e0c0e305453365ac024943b68dd26ca48c8871</td>\n",
       "      <td>0x3568c7a4f7545805e379c264303239781b4e9a79</td>\n",
       "      <td>0xdb6f1920a889355780af7570773609bd8cb1f498</td>\n",
       "      <td>1.003160e-12</td>\n",
       "      <td>Cerebrum DAO Token</td>\n",
       "      <td>NEURON</td>\n",
       "      <td>18</td>\n",
       "      <td>36</td>\n",
       "      <td>654823</td>\n",
       "      <td>12802464</td>\n",
       "      <td>380875</td>\n",
       "      <td>7202101</td>\n",
       "      <td>deprecated</td>\n",
       "      <td>32332</td>\n",
       "    </tr>\n",
       "    <tr>\n",
       "      <th>3</th>\n",
       "      <td>30062443</td>\n",
       "      <td>2025-05-10 21:57:13</td>\n",
       "      <td>0xc658b404de957b551518e5934b3f945fb5d99ca71890...</td>\n",
       "      <td>2108</td>\n",
       "      <td>0x0998aa7100b1953910d259f75e8f4000869fea66d485...</td>\n",
       "      <td>0x1111111254eeb25477b68fb85ed929f73a960582</td>\n",
       "      <td>0x3568c7a4f7545805e379c264303239781b4e9a79</td>\n",
       "      <td>0x772f4fea5afb02e2aae7ea83bacf68ec755a1db9</td>\n",
       "      <td>7.544841e-15</td>\n",
       "      <td>Cerebrum DAO Token</td>\n",
       "      <td>NEURON</td>\n",
       "      <td>18</td>\n",
       "      <td>172</td>\n",
       "      <td>162515</td>\n",
       "      <td>2569199</td>\n",
       "      <td>141325</td>\n",
       "      <td>56437536</td>\n",
       "      <td>deprecated</td>\n",
       "      <td>36002</td>\n",
       "    </tr>\n",
       "    <tr>\n",
       "      <th>4</th>\n",
       "      <td>30062443</td>\n",
       "      <td>2025-05-10 21:57:13</td>\n",
       "      <td>0xc658b404de957b551518e5934b3f945fb5d99ca71890...</td>\n",
       "      <td>2108</td>\n",
       "      <td>0x0998aa7100b1953910d259f75e8f4000869fea66d485...</td>\n",
       "      <td>0x77e0c0e305453365ac024943b68dd26ca48c8871</td>\n",
       "      <td>0x3568c7a4f7545805e379c264303239781b4e9a79</td>\n",
       "      <td>0x1111111254eeb25477b68fb85ed929f73a960582</td>\n",
       "      <td>7.544841e-15</td>\n",
       "      <td>Cerebrum DAO Token</td>\n",
       "      <td>NEURON</td>\n",
       "      <td>18</td>\n",
       "      <td>172</td>\n",
       "      <td>162515</td>\n",
       "      <td>2569199</td>\n",
       "      <td>141325</td>\n",
       "      <td>56437536</td>\n",
       "      <td>deprecated</td>\n",
       "      <td>36002</td>\n",
       "    </tr>\n",
       "  </tbody>\n",
       "</table>\n",
       "</div>"
      ],
      "text/plain": [
       "   blockNumber            timeStamp  \\\n",
       "0     30093180  2025-05-11 15:01:47   \n",
       "1     30066113  2025-05-10 23:59:33   \n",
       "2     30066113  2025-05-10 23:59:33   \n",
       "3     30062443  2025-05-10 21:57:13   \n",
       "4     30062443  2025-05-10 21:57:13   \n",
       "\n",
       "                                                hash   nonce  \\\n",
       "0  0x14dac838467440b5f25c477757512eb348de92b7ccf7...  416844   \n",
       "1  0x1edcd1a557e07c720f129643e6376811953e299673b5...      31   \n",
       "2  0x1edcd1a557e07c720f129643e6376811953e299673b5...      31   \n",
       "3  0xc658b404de957b551518e5934b3f945fb5d99ca71890...    2108   \n",
       "4  0xc658b404de957b551518e5934b3f945fb5d99ca71890...    2108   \n",
       "\n",
       "                                           blockHash  \\\n",
       "0  0x0ee4cef68c21289009eeb9509e0dc366399ebf4612ba...   \n",
       "1  0x5a0fc9155e6ede94cd0742d137255a5e191172c2c22f...   \n",
       "2  0x5a0fc9155e6ede94cd0742d137255a5e191172c2c22f...   \n",
       "3  0x0998aa7100b1953910d259f75e8f4000869fea66d485...   \n",
       "4  0x0998aa7100b1953910d259f75e8f4000869fea66d485...   \n",
       "\n",
       "                                         from  \\\n",
       "0  0x0000000000000000000000000000000000000000   \n",
       "1  0xdb6f1920a889355780af7570773609bd8cb1f498   \n",
       "2  0x77e0c0e305453365ac024943b68dd26ca48c8871   \n",
       "3  0x1111111254eeb25477b68fb85ed929f73a960582   \n",
       "4  0x77e0c0e305453365ac024943b68dd26ca48c8871   \n",
       "\n",
       "                              contractAddress  \\\n",
       "0  0x3568c7a4f7545805e379c264303239781b4e9a79   \n",
       "1  0x3568c7a4f7545805e379c264303239781b4e9a79   \n",
       "2  0x3568c7a4f7545805e379c264303239781b4e9a79   \n",
       "3  0x3568c7a4f7545805e379c264303239781b4e9a79   \n",
       "4  0x3568c7a4f7545805e379c264303239781b4e9a79   \n",
       "\n",
       "                                           to         value  \\\n",
       "0  0x8fed80cfb986a7d04b6784bc6fa6f589cecdc3dd  2.000000e-09   \n",
       "1  0x3391aaaa8dbdd32b38403693ac58a6a9e3d75410  1.003160e-12   \n",
       "2  0xdb6f1920a889355780af7570773609bd8cb1f498  1.003160e-12   \n",
       "3  0x772f4fea5afb02e2aae7ea83bacf68ec755a1db9  7.544841e-15   \n",
       "4  0x1111111254eeb25477b68fb85ed929f73a960582  7.544841e-15   \n",
       "\n",
       "            tokenName tokenSymbol  tokenDecimal  transactionIndex     gas  \\\n",
       "0  Cerebrum DAO Token      NEURON            18                 1  517494   \n",
       "1  Cerebrum DAO Token      NEURON            18                36  654823   \n",
       "2  Cerebrum DAO Token      NEURON            18                36  654823   \n",
       "3  Cerebrum DAO Token      NEURON            18               172  162515   \n",
       "4  Cerebrum DAO Token      NEURON            18               172  162515   \n",
       "\n",
       "   gasPrice  gasUsed  cumulativeGasUsed       input  confirmations  \n",
       "0         0   104767             159311  deprecated           5265  \n",
       "1  12802464   380875            7202101  deprecated          32332  \n",
       "2  12802464   380875            7202101  deprecated          32332  \n",
       "3   2569199   141325           56437536  deprecated          36002  \n",
       "4   2569199   141325           56437536  deprecated          36002  "
      ]
     },
     "execution_count": 32,
     "metadata": {},
     "output_type": "execute_result"
    }
   ],
   "source": [
    "#Load the Basescan 'cerebrumdao_transfers_bs' data\n",
    "\n",
    "import pandas as pd\n",
    "\n",
    "df = pd.read_csv('cerebrumdao_transfers_bs.csv')\n",
    "df.head()"
   ]
  },
  {
   "cell_type": "code",
   "execution_count": 33,
   "id": "c365bc32-7352-4f1d-8d28-2f3e820b2e82",
   "metadata": {},
   "outputs": [
    {
     "name": "stdout",
     "output_type": "stream",
     "text": [
      "Total transfers: 10000\n",
      "Date range: 2024-12-27 04:11:41 to 2025-05-11 15:01:47\n",
      "Unique sender addresses: 1201\n",
      "Unique recipient addresses: 1414\n"
     ]
    }
   ],
   "source": [
    "# Basic Data Overview\n",
    "# >> How many transfers?\n",
    "# >> Date range of data?\n",
    "# >> How many unique addresses involved?\n",
    "\n",
    "print(\"Total transfers:\", len(df))\n",
    "print(\"Date range:\", df['timeStamp'].min(), \"to\", df['timeStamp'].max())\n",
    "print(\"Unique sender addresses:\", df['from'].nunique())\n",
    "print(\"Unique recipient addresses:\", df['to'].nunique())"
   ]
  },
  {
   "cell_type": "code",
   "execution_count": null,
   "id": "c464c3b9-23c8-4a20-b64d-ee05e5e0abf0",
   "metadata": {},
   "outputs": [],
   "source": [
    "# ANALYZE KEY KPIs"
   ]
  },
  {
   "cell_type": "code",
   "execution_count": null,
   "id": "41c48942-d62a-4a44-9cd4-16f37dce8360",
   "metadata": {},
   "outputs": [],
   "source": [
    "# Token Distribution (Decentralization)\n",
    "# >> How many unique holders?\n",
    "# >> Are tokens concentrated in a few wallets?"
   ]
  },
  {
   "cell_type": "code",
   "execution_count": 34,
   "id": "4c41637e-0f90-456d-a579-8a5ee85719f6",
   "metadata": {},
   "outputs": [
    {
     "data": {
      "text/html": [
       "<div>\n",
       "<style scoped>\n",
       "    .dataframe tbody tr th:only-of-type {\n",
       "        vertical-align: middle;\n",
       "    }\n",
       "\n",
       "    .dataframe tbody tr th {\n",
       "        vertical-align: top;\n",
       "    }\n",
       "\n",
       "    .dataframe thead th {\n",
       "        text-align: right;\n",
       "    }\n",
       "</style>\n",
       "<table border=\"1\" class=\"dataframe\">\n",
       "  <thead>\n",
       "    <tr style=\"text-align: right;\">\n",
       "      <th></th>\n",
       "      <th>address</th>\n",
       "      <th>balance</th>\n",
       "    </tr>\n",
       "  </thead>\n",
       "  <tbody>\n",
       "    <tr>\n",
       "      <th>0</th>\n",
       "      <td>0x8fed80cfb986a7d04b6784bc6fa6f589cecdc3dd</td>\n",
       "      <td>2.204609e-09</td>\n",
       "    </tr>\n",
       "    <tr>\n",
       "      <th>4</th>\n",
       "      <td>0x77e0c0e305453365ac024943b68dd26ca48c8871</td>\n",
       "      <td>2.698855e-10</td>\n",
       "    </tr>\n",
       "    <tr>\n",
       "      <th>46</th>\n",
       "      <td>0xdb9f90626b16551810a3493f85cee01eb9eaff63</td>\n",
       "      <td>6.535475e-11</td>\n",
       "    </tr>\n",
       "    <tr>\n",
       "      <th>1065</th>\n",
       "      <td>0xf4937657ed8b3f3cb379eed47b8818ee947beb1e</td>\n",
       "      <td>3.918582e-11</td>\n",
       "    </tr>\n",
       "    <tr>\n",
       "      <th>35</th>\n",
       "      <td>0x801c8a65977661210a596465da90fb5ec1e19457</td>\n",
       "      <td>1.729614e-11</td>\n",
       "    </tr>\n",
       "    <tr>\n",
       "      <th>548</th>\n",
       "      <td>0x2213a7c507e0c22253f248357bbd360cabd3d6ab</td>\n",
       "      <td>1.265100e-11</td>\n",
       "    </tr>\n",
       "    <tr>\n",
       "      <th>869</th>\n",
       "      <td>0x545600fa318f1e717756ff461cf0e7e0ecff08e3</td>\n",
       "      <td>1.158661e-11</td>\n",
       "    </tr>\n",
       "    <tr>\n",
       "      <th>932</th>\n",
       "      <td>0x6a1a252e84bf1569be1652c53801c85e26b142fe</td>\n",
       "      <td>1.085106e-11</td>\n",
       "    </tr>\n",
       "    <tr>\n",
       "      <th>823</th>\n",
       "      <td>0x0b19f10f75104de7b98a70fa8ab979457600aeb7</td>\n",
       "      <td>7.021774e-12</td>\n",
       "    </tr>\n",
       "    <tr>\n",
       "      <th>931</th>\n",
       "      <td>0x078e88e465f2a430399e319d57543a7a76e97668</td>\n",
       "      <td>6.076134e-12</td>\n",
       "    </tr>\n",
       "  </tbody>\n",
       "</table>\n",
       "</div>"
      ],
      "text/plain": [
       "                                         address       balance\n",
       "0     0x8fed80cfb986a7d04b6784bc6fa6f589cecdc3dd  2.204609e-09\n",
       "4     0x77e0c0e305453365ac024943b68dd26ca48c8871  2.698855e-10\n",
       "46    0xdb9f90626b16551810a3493f85cee01eb9eaff63  6.535475e-11\n",
       "1065  0xf4937657ed8b3f3cb379eed47b8818ee947beb1e  3.918582e-11\n",
       "35    0x801c8a65977661210a596465da90fb5ec1e19457  1.729614e-11\n",
       "548   0x2213a7c507e0c22253f248357bbd360cabd3d6ab  1.265100e-11\n",
       "869   0x545600fa318f1e717756ff461cf0e7e0ecff08e3  1.158661e-11\n",
       "932   0x6a1a252e84bf1569be1652c53801c85e26b142fe  1.085106e-11\n",
       "823   0x0b19f10f75104de7b98a70fa8ab979457600aeb7  7.021774e-12\n",
       "931   0x078e88e465f2a430399e319d57543a7a76e97668  6.076134e-12"
      ]
     },
     "execution_count": 34,
     "metadata": {},
     "output_type": "execute_result"
    }
   ],
   "source": [
    "# Calculate current balances for each address\n",
    "from collections import defaultdict\n",
    "\n",
    "balances = defaultdict(float)\n",
    "for _, row in df.iterrows():\n",
    "    balances[row['to']] += row['value']\n",
    "    balances[row['from']] -= row['value']\n",
    "\n",
    "balances_df = pd.DataFrame(list(balances.items()), columns=['address', 'balance'])\n",
    "balances_df = balances_df[balances_df['balance'] > 0].sort_values('balance', ascending=False)\n",
    "balances_df.head(10)"
   ]
  },
  {
   "cell_type": "code",
   "execution_count": 35,
   "id": "429acc30-9e4c-4f10-bed4-6e5b95d8e6ca",
   "metadata": {},
   "outputs": [
    {
     "name": "stdout",
     "output_type": "stream",
     "text": [
      "Top 10 holders own 97.47% of total supply\n"
     ]
    }
   ],
   "source": [
    "# Top 10 holders’ share of total supply.\n",
    "\n",
    "total_supply = balances_df['balance'].sum()\n",
    "top_10_share = balances_df.head(10)['balance'].sum() / total_supply * 100\n",
    "print(f\"Top 10 holders own {top_10_share:.2f}% of total supply\")"
   ]
  },
  {
   "cell_type": "code",
   "execution_count": 36,
   "id": "64f92430-beed-4a11-a45f-95e04b0f04cb",
   "metadata": {},
   "outputs": [
    {
     "name": "stdout",
     "output_type": "stream",
     "text": [
      "Top 5 holders own 95.69% of total supply\n"
     ]
    }
   ],
   "source": [
    "# Top 5 holders’ share of total supply.\n",
    "\n",
    "total_supply = balances_df['balance'].sum()\n",
    "top_5_share = balances_df.head(5)['balance'].sum() / total_supply * 100\n",
    "print(f\"Top 5 holders own {top_5_share:.2f}% of total supply\")"
   ]
  },
  {
   "cell_type": "code",
   "execution_count": 37,
   "id": "33e8bb41-8950-433d-847d-b58753bc11f0",
   "metadata": {},
   "outputs": [
    {
     "name": "stdout",
     "output_type": "stream",
     "text": [
      "Top 3 holders own 93.61% of total supply\n"
     ]
    }
   ],
   "source": [
    "# Top 3 holders’ share of total supply.\n",
    "\n",
    "total_supply = balances_df['balance'].sum()\n",
    "top_3_share = balances_df.head(3)['balance'].sum() / total_supply * 100\n",
    "print(f\"Top 3 holders own {top_3_share:.2f}% of total supply\")"
   ]
  },
  {
   "cell_type": "code",
   "execution_count": 38,
   "id": "c402cd5f-04c1-4113-a1c7-d618020dbd5c",
   "metadata": {},
   "outputs": [
    {
     "name": "stdout",
     "output_type": "stream",
     "text": [
      "Index(['blockNumber', 'timeStamp', 'hash', 'nonce', 'blockHash', 'from',\n",
      "       'contractAddress', 'to', 'value', 'tokenName', 'tokenSymbol',\n",
      "       'tokenDecimal', 'transactionIndex', 'gas', 'gasPrice', 'gasUsed',\n",
      "       'cumulativeGasUsed', 'input', 'confirmations'],\n",
      "      dtype='object')\n",
      "None\n"
     ]
    }
   ],
   "source": [
    "# debug timeStamp format. Index is none\n",
    "\n",
    "#Summary\n",
    "#Convert 'timeStamp' to datetime (if not already).\n",
    "#Set 'timeStamp' as the index.\n",
    "#Drop rows with missing timestamps.\n",
    "#Check the date range.\n",
    "#Resample and plot.\n",
    "\n",
    "print(df.columns)\n",
    "print(df.index.name)"
   ]
  },
  {
   "cell_type": "code",
   "execution_count": 39,
   "id": "49fa2a8f-8cd7-4428-831b-4bdf631352b8",
   "metadata": {},
   "outputs": [
    {
     "name": "stdout",
     "output_type": "stream",
     "text": [
      "2024-12-27 04:11:41 2025-05-11 15:01:47\n"
     ]
    }
   ],
   "source": [
    "df['timeStamp'] = pd.to_datetime(df['timeStamp'], errors='coerce')\n",
    "df = df.set_index('timeStamp')\n",
    "df = df[~df.index.isna()]\n",
    "print(df.index.min(), df.index.max())"
   ]
  },
  {
   "cell_type": "code",
   "execution_count": 40,
   "id": "9273ac0c-4931-468d-a6c9-d4b2aa2976b3",
   "metadata": {},
   "outputs": [
    {
     "data": {
      "image/png": "[encoded data removed]",
      "text/plain": [
       "<Figure size 1200x500 with 2 Axes>"
      ]
     },
     "metadata": {},
     "output_type": "display_data"
    }
   ],
   "source": [
    "# Activity Over Time\n",
    "# >> Are transfers increasing, steady, or declining?\n",
    "# >> KPI: Weekly/monthly transfer count and volume.\n",
    "\n",
    "#If your index is a string that looks like a date, use pd.to_datetime(df.index) (no unit='s').\n",
    "#Only use unit='s' if your data is in UNIX timestamp format (numbers).\n",
    "\n",
    "\n",
    "df.index = pd.to_datetime(df.index)\n",
    "weekly_transfers = df.resample('W').size()\n",
    "weekly_volume = df.resample('W')['value'].sum()\n",
    "\n",
    "import matplotlib.pyplot as plt\n",
    "\n",
    "plt.figure(figsize=(12,5))\n",
    "plt.subplot(1,2,1)\n",
    "weekly_transfers.plot(title='Weekly Transfer Count')\n",
    "plt.subplot(1,2,2)\n",
    "weekly_volume.plot(title='Weekly Transfer Volume')\n",
    "plt.tight_layout()\n",
    "plt.show()"
   ]
  },
  {
   "cell_type": "code",
   "execution_count": 41,
   "id": "8d3f0261-b343-42cd-8505-1ceeb87419dd",
   "metadata": {},
   "outputs": [
    {
     "name": "stdout",
     "output_type": "stream",
     "text": [
      "timeStamp\n",
      "2024-12-29    2.873417e-09\n",
      "2025-05-11    2.065341e-09\n",
      "2025-01-05    1.480477e-09\n",
      "Name: value, dtype: float64\n"
     ]
    }
   ],
   "source": [
    "# May volume spike analysis\n",
    "\n",
    "print(weekly_volume.sort_values(ascending=False).head(3))"
   ]
  },
  {
   "cell_type": "code",
   "execution_count": 42,
   "id": "23cba909-dd35-4972-938a-39b6b72d9bef",
   "metadata": {},
   "outputs": [
    {
     "name": "stdout",
     "output_type": "stream",
     "text": [
      "Empty DataFrame\n",
      "Columns: [from, to, value]\n",
      "Index: []\n"
     ]
    }
   ],
   "source": [
    "spike_week = '2025-05-11'\n",
    "\n",
    "# Get all transactions in that week\n",
    "week_start = pd.to_datetime(spike_week) - pd.Timedelta(days=6)\n",
    "week_end = pd.to_datetime(spike_week)\n",
    "\n",
    "spike_df = df.loc[week_start:week_end]\n",
    "print(spike_df[['from', 'to', 'value']].sort_values('value', ascending=False).head(10))"
   ]
  },
  {
   "cell_type": "code",
   "execution_count": 43,
   "id": "29dd994f-6631-4c14-9dd8-e103ffb7c70e",
   "metadata": {},
   "outputs": [
    {
     "name": "stdout",
     "output_type": "stream",
     "text": [
      "timeStamp\n",
      "datetime64[ns]\n",
      "                                                           from  \\\n",
      "timeStamp                                                         \n",
      "2025-05-11 15:01:47  0x0000000000000000000000000000000000000000   \n",
      "\n",
      "                                                             to         value  \n",
      "timeStamp                                                                      \n",
      "2025-05-11 15:01:47  0x8fed80cfb986a7d04b6784bc6fa6f589cecdc3dd  2.000000e-09  \n"
     ]
    }
   ],
   "source": [
    "# transfer happened today, no data for a whole week\n",
    "print(df.index.name)\n",
    "print(df.index.dtype)\n",
    "\n",
    "import datetime\n",
    "today = pd.Timestamp(datetime.date.today())\n",
    "today_df = df.loc[df.index.normalize() == today]\n",
    "print(today_df[['from', 'to', 'value']].sort_values('value', ascending=False).head(10))"
   ]
  },
  {
   "cell_type": "code",
   "execution_count": null,
   "id": "153fb133-13ec-4e41-9f47-43cc201a6684",
   "metadata": {},
   "outputs": [],
   "source": [
    "# new tokens minted  by zero address (wallet 0x00...000) small amount.\n",
    "# sign of activity after a long quiet period of time"
   ]
  },
  {
   "cell_type": "code",
   "execution_count": 44,
   "id": "d8747af1-1c36-40c2-9700-7ed8d9edb0d3",
   "metadata": {},
   "outputs": [
    {
     "data": {
      "image/png": "[encoded data removed]",
      "text/plain": [
       "<Figure size 640x480 with 1 Axes>"
      ]
     },
     "metadata": {},
     "output_type": "display_data"
    }
   ],
   "source": [
    "# Holder Churn and Engagement\n",
    "# >> How many new addresses receive tokens each month?\n",
    "# >> KPI: New unique recipients per month.\n",
    "\n",
    "df['month'] = df.index.to_period('M')\n",
    "new_recipients = df.groupby('month')['to'].nunique()\n",
    "new_recipients.plot(kind='bar', title='New Unique Recipients per Month')\n",
    "plt.ylabel('Count')\n",
    "plt.show()"
   ]
  },
  {
   "cell_type": "code",
   "execution_count": 45,
   "id": "28d82603-f328-49fe-92cc-69a1f0cb9f21",
   "metadata": {},
   "outputs": [
    {
     "name": "stdout",
     "output_type": "stream",
     "text": [
      "Number of large transfers: 12\n"
     ]
    },
    {
     "data": {
      "text/html": [
       "<div>\n",
       "<style scoped>\n",
       "    .dataframe tbody tr th:only-of-type {\n",
       "        vertical-align: middle;\n",
       "    }\n",
       "\n",
       "    .dataframe tbody tr th {\n",
       "        vertical-align: top;\n",
       "    }\n",
       "\n",
       "    .dataframe thead th {\n",
       "        text-align: right;\n",
       "    }\n",
       "</style>\n",
       "<table border=\"1\" class=\"dataframe\">\n",
       "  <thead>\n",
       "    <tr style=\"text-align: right;\">\n",
       "      <th></th>\n",
       "      <th>from</th>\n",
       "      <th>to</th>\n",
       "      <th>value</th>\n",
       "      <th>hash</th>\n",
       "    </tr>\n",
       "    <tr>\n",
       "      <th>timeStamp</th>\n",
       "      <th></th>\n",
       "      <th></th>\n",
       "      <th></th>\n",
       "      <th></th>\n",
       "    </tr>\n",
       "  </thead>\n",
       "  <tbody>\n",
       "    <tr>\n",
       "      <th>2025-05-11 15:01:47</th>\n",
       "      <td>0x0000000000000000000000000000000000000000</td>\n",
       "      <td>0x8fed80cfb986a7d04b6784bc6fa6f589cecdc3dd</td>\n",
       "      <td>2.000000e-09</td>\n",
       "      <td>0x14dac838467440b5f25c477757512eb348de92b7ccf7...</td>\n",
       "    </tr>\n",
       "    <tr>\n",
       "      <th>2025-05-04 22:08:47</th>\n",
       "      <td>0x0250e5cfa564e26aba0af8399328a7169fb94e02</td>\n",
       "      <td>0xdb9f90626b16551810a3493f85cee01eb9eaff63</td>\n",
       "      <td>6.535475e-11</td>\n",
       "      <td>0x3ecc67265ae2c5cdfa5ff2f07e47d1204fdcc6dd5e70...</td>\n",
       "    </tr>\n",
       "    <tr>\n",
       "      <th>2025-04-25 22:02:23</th>\n",
       "      <td>0x1ad95af27e2672a255461b1c7962e0cbd940f0ac</td>\n",
       "      <td>0x0250e5cfa564e26aba0af8399328a7169fb94e02</td>\n",
       "      <td>6.535475e-11</td>\n",
       "      <td>0x1778d8d487551f0c528fd30cbbbba92ad88ef5963704...</td>\n",
       "    </tr>\n",
       "    <tr>\n",
       "      <th>2025-03-10 23:18:45</th>\n",
       "      <td>0xd688ab46dc476a05a093e4442d06ceb348adbda8</td>\n",
       "      <td>0x77e0c0e305453365ac024943b68dd26ca48c8871</td>\n",
       "      <td>3.688198e-11</td>\n",
       "      <td>0xd15c827a97ea192df665c0aea0f417204c3f1417734d...</td>\n",
       "    </tr>\n",
       "    <tr>\n",
       "      <th>2025-03-10 23:18:45</th>\n",
       "      <td>0x396f0e55fa33513441d556f84a6ea5c6fd7d217b</td>\n",
       "      <td>0xd688ab46dc476a05a093e4442d06ceb348adbda8</td>\n",
       "      <td>3.688198e-11</td>\n",
       "      <td>0xd15c827a97ea192df665c0aea0f417204c3f1417734d...</td>\n",
       "    </tr>\n",
       "    <tr>\n",
       "      <th>2025-01-06 18:40:55</th>\n",
       "      <td>0x8fed80cfb986a7d04b6784bc6fa6f589cecdc3dd</td>\n",
       "      <td>0x77e0c0e305453365ac024943b68dd26ca48c8871</td>\n",
       "      <td>3.872097e-11</td>\n",
       "      <td>0x3a0951f3478a46ec15abbae99c451af9ad2835592b6e...</td>\n",
       "    </tr>\n",
       "    <tr>\n",
       "      <th>2025-01-06 18:35:33</th>\n",
       "      <td>0x0000000000000000000000000000000000000000</td>\n",
       "      <td>0x8fed80cfb986a7d04b6784bc6fa6f589cecdc3dd</td>\n",
       "      <td>2.970000e-10</td>\n",
       "      <td>0x75716117d32a1f3fdcc8f4740e8ece2887815cb7b36d...</td>\n",
       "    </tr>\n",
       "    <tr>\n",
       "      <th>2025-01-04 12:21:25</th>\n",
       "      <td>0x8fed80cfb986a7d04b6784bc6fa6f589cecdc3dd</td>\n",
       "      <td>0x77e0c0e305453365ac024943b68dd26ca48c8871</td>\n",
       "      <td>6.800000e-11</td>\n",
       "      <td>0x1911267853278e0365ed80d9744ed1c1b544f8141cf7...</td>\n",
       "    </tr>\n",
       "    <tr>\n",
       "      <th>2025-01-04 12:14:19</th>\n",
       "      <td>0xc8ffeff4469642b42e0e841d89153e4fac70c5f2</td>\n",
       "      <td>0x8fed80cfb986a7d04b6784bc6fa6f589cecdc3dd</td>\n",
       "      <td>5.766555e-11</td>\n",
       "      <td>0xa67324f1a86e4d08bd0c3f387c6044225373d7bb1865...</td>\n",
       "    </tr>\n",
       "    <tr>\n",
       "      <th>2025-01-03 22:15:51</th>\n",
       "      <td>0x203a86cc18c41e6745ad2ef4542445a04357fe5b</td>\n",
       "      <td>0x0000000000000000000000000000000000000000</td>\n",
       "      <td>3.738627e-11</td>\n",
       "      <td>0x78d6c6b49e6e3b641c63efc4b360435b9a7ede5a3867...</td>\n",
       "    </tr>\n",
       "    <tr>\n",
       "      <th>2024-12-30 10:53:41</th>\n",
       "      <td>0x8fed80cfb986a7d04b6784bc6fa6f589cecdc3dd</td>\n",
       "      <td>0xc1c548f980669615772dadcbfebc29937c29481a</td>\n",
       "      <td>3.918582e-11</td>\n",
       "      <td>0x486004435980f70e6bcb78560c3325d4322d194c5e14...</td>\n",
       "    </tr>\n",
       "    <tr>\n",
       "      <th>2024-12-28 21:13:21</th>\n",
       "      <td>0x203a86cc18c41e6745ad2ef4542445a04357fe5b</td>\n",
       "      <td>0x0000000000000000000000000000000000000000</td>\n",
       "      <td>5.317841e-11</td>\n",
       "      <td>0x2215d81add5cdac5f8e49129ce6a7caa631ad0d8950e...</td>\n",
       "    </tr>\n",
       "  </tbody>\n",
       "</table>\n",
       "</div>"
      ],
      "text/plain": [
       "                                                           from  \\\n",
       "timeStamp                                                         \n",
       "2025-05-11 15:01:47  0x0000000000000000000000000000000000000000   \n",
       "2025-05-04 22:08:47  0x0250e5cfa564e26aba0af8399328a7169fb94e02   \n",
       "2025-04-25 22:02:23  0x1ad95af27e2672a255461b1c7962e0cbd940f0ac   \n",
       "2025-03-10 23:18:45  0xd688ab46dc476a05a093e4442d06ceb348adbda8   \n",
       "2025-03-10 23:18:45  0x396f0e55fa33513441d556f84a6ea5c6fd7d217b   \n",
       "2025-01-06 18:40:55  0x8fed80cfb986a7d04b6784bc6fa6f589cecdc3dd   \n",
       "2025-01-06 18:35:33  0x0000000000000000000000000000000000000000   \n",
       "2025-01-04 12:21:25  0x8fed80cfb986a7d04b6784bc6fa6f589cecdc3dd   \n",
       "2025-01-04 12:14:19  0xc8ffeff4469642b42e0e841d89153e4fac70c5f2   \n",
       "2025-01-03 22:15:51  0x203a86cc18c41e6745ad2ef4542445a04357fe5b   \n",
       "2024-12-30 10:53:41  0x8fed80cfb986a7d04b6784bc6fa6f589cecdc3dd   \n",
       "2024-12-28 21:13:21  0x203a86cc18c41e6745ad2ef4542445a04357fe5b   \n",
       "\n",
       "                                                             to         value  \\\n",
       "timeStamp                                                                       \n",
       "2025-05-11 15:01:47  0x8fed80cfb986a7d04b6784bc6fa6f589cecdc3dd  2.000000e-09   \n",
       "2025-05-04 22:08:47  0xdb9f90626b16551810a3493f85cee01eb9eaff63  6.535475e-11   \n",
       "2025-04-25 22:02:23  0x0250e5cfa564e26aba0af8399328a7169fb94e02  6.535475e-11   \n",
       "2025-03-10 23:18:45  0x77e0c0e305453365ac024943b68dd26ca48c8871  3.688198e-11   \n",
       "2025-03-10 23:18:45  0xd688ab46dc476a05a093e4442d06ceb348adbda8  3.688198e-11   \n",
       "2025-01-06 18:40:55  0x77e0c0e305453365ac024943b68dd26ca48c8871  3.872097e-11   \n",
       "2025-01-06 18:35:33  0x8fed80cfb986a7d04b6784bc6fa6f589cecdc3dd  2.970000e-10   \n",
       "2025-01-04 12:21:25  0x77e0c0e305453365ac024943b68dd26ca48c8871  6.800000e-11   \n",
       "2025-01-04 12:14:19  0x8fed80cfb986a7d04b6784bc6fa6f589cecdc3dd  5.766555e-11   \n",
       "2025-01-03 22:15:51  0x0000000000000000000000000000000000000000  3.738627e-11   \n",
       "2024-12-30 10:53:41  0xc1c548f980669615772dadcbfebc29937c29481a  3.918582e-11   \n",
       "2024-12-28 21:13:21  0x0000000000000000000000000000000000000000  5.317841e-11   \n",
       "\n",
       "                                                                  hash  \n",
       "timeStamp                                                               \n",
       "2025-05-11 15:01:47  0x14dac838467440b5f25c477757512eb348de92b7ccf7...  \n",
       "2025-05-04 22:08:47  0x3ecc67265ae2c5cdfa5ff2f07e47d1204fdcc6dd5e70...  \n",
       "2025-04-25 22:02:23  0x1778d8d487551f0c528fd30cbbbba92ad88ef5963704...  \n",
       "2025-03-10 23:18:45  0xd15c827a97ea192df665c0aea0f417204c3f1417734d...  \n",
       "2025-03-10 23:18:45  0xd15c827a97ea192df665c0aea0f417204c3f1417734d...  \n",
       "2025-01-06 18:40:55  0x3a0951f3478a46ec15abbae99c451af9ad2835592b6e...  \n",
       "2025-01-06 18:35:33  0x75716117d32a1f3fdcc8f4740e8ece2887815cb7b36d...  \n",
       "2025-01-04 12:21:25  0x1911267853278e0365ed80d9744ed1c1b544f8141cf7...  \n",
       "2025-01-04 12:14:19  0xa67324f1a86e4d08bd0c3f387c6044225373d7bb1865...  \n",
       "2025-01-03 22:15:51  0x78d6c6b49e6e3b641c63efc4b360435b9a7ede5a3867...  \n",
       "2024-12-30 10:53:41  0x486004435980f70e6bcb78560c3325d4322d194c5e14...  \n",
       "2024-12-28 21:13:21  0x2215d81add5cdac5f8e49129ce6a7caa631ad0d8950e...  "
      ]
     },
     "metadata": {},
     "output_type": "display_data"
    }
   ],
   "source": [
    "# Large Transactions (Whale Activity) very low amounts in general\n",
    "# >> Are there big transfers?\n",
    "# >> KPI: Number and size of transfers above a threshold (e.g., 1% of total supply).\n",
    "\n",
    "large_tx_threshold = total_supply * 0.01\n",
    "large_txs = df[df['value'] > large_tx_threshold]\n",
    "print(\"Number of large transfers:\", len(large_txs))\n",
    "display(large_txs[['from', 'to', 'value', 'hash']])"
   ]
  },
  {
   "cell_type": "code",
   "execution_count": 46,
   "id": "f05e1525-d155-440e-aa84-a5543d41c766",
   "metadata": {},
   "outputs": [
    {
     "name": "stdout",
     "output_type": "stream",
     "text": [
      "Active addresses in last 30 days: 73\n"
     ]
    },
    {
     "name": "stderr",
     "output_type": "stream",
     "text": [
      "/var/folders/nl/qcn3hjks21bdn5btqv97xb840000gn/T/ipykernel_2346/2690235191.py:6: FutureWarning: unique with argument that is not not a Series, Index, ExtensionArray, or np.ndarray is deprecated and will raise in a future version.\n",
      "  active_addresses = pd.unique(recent_df['from'].tolist() + recent_df['to'].tolist())\n"
     ]
    }
   ],
   "source": [
    "# Dormant vs. Active Addresses\n",
    "# >> How many addresses are active (sent/received in last 30 days)?\n",
    "\n",
    "recent_cutoff = df.index.max() - pd.Timedelta(days=30)\n",
    "recent_df = df[df.index > recent_cutoff]\n",
    "active_addresses = pd.unique(recent_df['from'].tolist() + recent_df['to'].tolist())\n",
    "print(\"Active addresses in last 30 days:\", len(active_addresses))"
   ]
  },
  {
   "cell_type": "code",
   "execution_count": 47,
   "id": "a94661f4-c22f-47fe-acd9-a3b67c40485b",
   "metadata": {},
   "outputs": [
    {
     "name": "stdout",
     "output_type": "stream",
     "text": [
      "Active addresses in last 90 days: 223\n"
     ]
    },
    {
     "name": "stderr",
     "output_type": "stream",
     "text": [
      "/var/folders/nl/qcn3hjks21bdn5btqv97xb840000gn/T/ipykernel_2346/434855838.py:5: FutureWarning: unique with argument that is not not a Series, Index, ExtensionArray, or np.ndarray is deprecated and will raise in a future version.\n",
      "  active_addresses = pd.unique(recent_df['from'].tolist() + recent_df['to'].tolist())\n"
     ]
    }
   ],
   "source": [
    "# >> How many addresses are active (sent/received in last 90 days)?\n",
    "\n",
    "recent_cutoff = df.index.max() - pd.Timedelta(days=90)\n",
    "recent_df = df[df.index > recent_cutoff]\n",
    "active_addresses = pd.unique(recent_df['from'].tolist() + recent_df['to'].tolist())\n",
    "print(\"Active addresses in last 90 days:\", len(active_addresses))"
   ]
  },
  {
   "cell_type": "code",
   "execution_count": 48,
   "id": "0a330f6d-7ba5-41d6-8970-e908df19e200",
   "metadata": {},
   "outputs": [
    {
     "name": "stdout",
     "output_type": "stream",
     "text": [
      "Total transactions: 10000\n",
      "timeStamp\n",
      "2024-12-29    4469\n",
      "2025-01-05    3559\n",
      "2025-01-12     848\n",
      "2025-01-19     338\n",
      "2025-01-26     138\n",
      "2025-02-02     137\n",
      "2025-02-09      52\n",
      "2025-02-16      48\n",
      "2025-02-23      62\n",
      "2025-03-02      14\n",
      "2025-03-09      72\n",
      "2025-03-16      26\n",
      "2025-03-23      31\n",
      "2025-03-30      12\n",
      "2025-04-06      13\n",
      "2025-04-13      30\n",
      "2025-04-20      19\n",
      "2025-04-27      11\n",
      "2025-05-04      24\n",
      "2025-05-11      97\n",
      "Freq: W-SUN, dtype: int64\n",
      "timeStamp\n",
      "2024-12-31    4928\n",
      "2025-01-31    4545\n",
      "2025-02-28     189\n",
      "2025-03-31     149\n",
      "2025-04-30      74\n",
      "2025-05-31     115\n",
      "Freq: ME, dtype: int64\n"
     ]
    },
    {
     "name": "stderr",
     "output_type": "stream",
     "text": [
      "/var/folders/nl/qcn3hjks21bdn5btqv97xb840000gn/T/ipykernel_2346/181650175.py:7: FutureWarning: 'M' is deprecated and will be removed in a future version, please use 'ME' instead.\n",
      "  print(df.resample('M').size())\n"
     ]
    }
   ],
   "source": [
    "print(\"Total transactions:\", len(df)) #total transactions\n",
    "\n",
    "# Weekly\n",
    "print(df.resample('W').size())\n",
    "\n",
    "# Monthly\n",
    "print(df.resample('M').size())\n",
    "\n"
   ]
  },
  {
   "cell_type": "code",
   "execution_count": 49,
   "id": "d154cf99-779c-4c5a-8dc4-6b61e4bf2d37",
   "metadata": {},
   "outputs": [
    {
     "data": {
      "image/png": "[encoded data removed]",
      "text/plain": [
       "<Figure size 1000x400 with 1 Axes>"
      ]
     },
     "metadata": {},
     "output_type": "display_data"
    }
   ],
   "source": [
    "# plot transactions per week\n",
    "import matplotlib.pyplot as plt\n",
    "\n",
    "weekly = df.resample('W').size()\n",
    "plt.figure(figsize=(10,4))\n",
    "weekly.plot(kind='bar')\n",
    "plt.title('Weekly Transaction Count')\n",
    "plt.ylabel('Number of Transactions')\n",
    "plt.show()"
   ]
  },
  {
   "cell_type": "code",
   "execution_count": 50,
   "id": "1234558d-0b4a-41d4-9c34-7107ade120e0",
   "metadata": {},
   "outputs": [
    {
     "name": "stdout",
     "output_type": "stream",
     "text": [
      "Total transactions: 10000\n",
      "First transaction: 2024-12-27 04:11:41\n",
      "Last transaction: 2025-05-11 15:01:47\n",
      "Active days: 111\n",
      "Average transactions per active day: 90.09009009009009\n"
     ]
    }
   ],
   "source": [
    "# Summary tables\n",
    "\n",
    "print(\"Total transactions:\", len(df))\n",
    "print(\"First transaction:\", df.index.min())\n",
    "print(\"Last transaction:\", df.index.max())\n",
    "print(\"Active days:\", df.index.normalize().nunique())\n",
    "print(\"Average transactions per active day:\", len(df) / df.index.normalize().nunique() if df.index.normalize().nunique() > 0 else 0)"
   ]
  },
  {
   "cell_type": "code",
   "execution_count": null,
   "id": "9b1a1f8c-8463-4037-b257-cf7854b7ce79",
   "metadata": {},
   "outputs": [],
   "source": [
    "# Step 5: Interpret in Context of Mission\n",
    "# >> If the mission is decentralization: High concentration in top wallets is a red flag.\n",
    "# >> If the mission is community engagement: Low new recipient count or declining activity is a concern.\n",
    "# >> If the mission is funding research: Look for transfers to known research addresses or grant disbursements.\n",
    "\n",
    "\n",
    "# Step 6: Next Steps\n",
    "# >> Visualize top holders (pie/bar chart).\n",
    "# >> Analyze governance activity (if available).\n",
    "# >> Compare on-chain activity to off-chain (Twitter, Discord) for holistic view."
   ]
  }
 ],
 "metadata": {
  "kernelspec": {
   "display_name": "cerebrum_env",
   "language": "python",
   "name": "cerebrum_env"
  },
  "language_info": {
   "codemirror_mode": {
    "name": "ipython",
    "version": 3
   },
   "file_extension": ".py",
   "mimetype": "text/x-python",
   "name": "python",
   "nbconvert_exporter": "python",
   "pygments_lexer": "ipython3",
   "version": "3.13.2"
  }
 },
 "nbformat": 4,
 "nbformat_minor": 5
}
