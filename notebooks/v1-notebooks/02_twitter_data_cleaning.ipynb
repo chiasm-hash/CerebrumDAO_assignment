{
 "cells": [
  {
   "cell_type": "code",
   "execution_count": 13,
   "id": "3ecdc38c-cae4-47f6-9845-5fd4f9e848ff",
   "metadata": {},
   "outputs": [],
   "source": [
    "import os\n",
    "import json\n",
    "import pandas as pd"
   ]
  },
  {
   "cell_type": "code",
   "execution_count": 17,
   "id": "4a9d6de8-7973-4955-a2b9-8aa8bc461b37",
   "metadata": {},
   "outputs": [
    {
     "name": "stdout",
     "output_type": "stream",
     "text": [
      "Loaded 592 tweets from /Users/user/Documents/cerebrum-assignment/data/raw/CerebrumDAO_Public_Information/twitter_data\n"
     ]
    },
    {
     "data": {
      "text/html": [
       "<div>\n",
       "<style scoped>\n",
       "    .dataframe tbody tr th:only-of-type {\n",
       "        vertical-align: middle;\n",
       "    }\n",
       "\n",
       "    .dataframe tbody tr th {\n",
       "        vertical-align: top;\n",
       "    }\n",
       "\n",
       "    .dataframe thead th {\n",
       "        text-align: right;\n",
       "    }\n",
       "</style>\n",
       "<table border=\"1\" class=\"dataframe\">\n",
       "  <thead>\n",
       "    <tr style=\"text-align: right;\">\n",
       "      <th></th>\n",
       "      <th>public_metrics</th>\n",
       "      <th>edit_history_tweet_ids</th>\n",
       "      <th>text</th>\n",
       "      <th>created_at</th>\n",
       "      <th>id</th>\n",
       "      <th>referenced_tweets</th>\n",
       "      <th>entities</th>\n",
       "      <th>attachments</th>\n",
       "    </tr>\n",
       "  </thead>\n",
       "  <tbody>\n",
       "    <tr>\n",
       "      <th>0</th>\n",
       "      <td>{'retweet_count': 1, 'reply_count': 8, 'like_c...</td>\n",
       "      <td>[1872529015665578451]</td>\n",
       "      <td>gm 🧠</td>\n",
       "      <td>2024-12-27T06:24:41.000Z</td>\n",
       "      <td>1872529015665578451</td>\n",
       "      <td>NaN</td>\n",
       "      <td>NaN</td>\n",
       "      <td>NaN</td>\n",
       "    </tr>\n",
       "    <tr>\n",
       "      <th>1</th>\n",
       "      <td>{'retweet_count': 0, 'reply_count': 1, 'like_c...</td>\n",
       "      <td>[1872524243663208448]</td>\n",
       "      <td>@rugunicorn Yes</td>\n",
       "      <td>2024-12-27T06:05:44.000Z</td>\n",
       "      <td>1872524243663208448</td>\n",
       "      <td>[{'type': 'replied_to', 'id': '187251860694228...</td>\n",
       "      <td>NaN</td>\n",
       "      <td>NaN</td>\n",
       "    </tr>\n",
       "    <tr>\n",
       "      <th>2</th>\n",
       "      <td>{'retweet_count': 35, 'reply_count': 15, 'like...</td>\n",
       "      <td>[1872334860813287578]</td>\n",
       "      <td>$NEURON is Now Live on Base! 🧠\\n\\nFollowing th...</td>\n",
       "      <td>2024-12-26T17:33:11.000Z</td>\n",
       "      <td>1872334860813287578</td>\n",
       "      <td>NaN</td>\n",
       "      <td>{'urls': [{'start': 210, 'end': 233, 'url': 'h...</td>\n",
       "      <td>{'media_keys': ['3_1872334672711016448']}</td>\n",
       "    </tr>\n",
       "    <tr>\n",
       "      <th>3</th>\n",
       "      <td>{'retweet_count': 15, 'reply_count': 5, 'like_...</td>\n",
       "      <td>[1872208623931412928]</td>\n",
       "      <td>It's just heartwarming seeing how much each Bi...</td>\n",
       "      <td>2024-12-26T09:11:34.000Z</td>\n",
       "      <td>1872208623931412928</td>\n",
       "      <td>[{'type': 'quoted', 'id': '1871689823427387878'}]</td>\n",
       "      <td>{'urls': [{'start': 248, 'end': 271, 'url': 'h...</td>\n",
       "      <td>NaN</td>\n",
       "    </tr>\n",
       "    <tr>\n",
       "      <th>4</th>\n",
       "      <td>{'retweet_count': 0, 'reply_count': 0, 'like_c...</td>\n",
       "      <td>[1872207973826846911]</td>\n",
       "      <td>@BitgetWallet @bioprotocol @pumpdotscience @vi...</td>\n",
       "      <td>2024-12-26T09:08:59.000Z</td>\n",
       "      <td>1872207973826846911</td>\n",
       "      <td>[{'type': 'replied_to', 'id': '187184888547321...</td>\n",
       "      <td>{'mentions': [{'start': 0, 'end': 13, 'usernam...</td>\n",
       "      <td>NaN</td>\n",
       "    </tr>\n",
       "  </tbody>\n",
       "</table>\n",
       "</div>"
      ],
      "text/plain": [
       "                                      public_metrics edit_history_tweet_ids  \\\n",
       "0  {'retweet_count': 1, 'reply_count': 8, 'like_c...  [1872529015665578451]   \n",
       "1  {'retweet_count': 0, 'reply_count': 1, 'like_c...  [1872524243663208448]   \n",
       "2  {'retweet_count': 35, 'reply_count': 15, 'like...  [1872334860813287578]   \n",
       "3  {'retweet_count': 15, 'reply_count': 5, 'like_...  [1872208623931412928]   \n",
       "4  {'retweet_count': 0, 'reply_count': 0, 'like_c...  [1872207973826846911]   \n",
       "\n",
       "                                                text  \\\n",
       "0                                               gm 🧠   \n",
       "1                                    @rugunicorn Yes   \n",
       "2  $NEURON is Now Live on Base! 🧠\\n\\nFollowing th...   \n",
       "3  It's just heartwarming seeing how much each Bi...   \n",
       "4  @BitgetWallet @bioprotocol @pumpdotscience @vi...   \n",
       "\n",
       "                 created_at                   id  \\\n",
       "0  2024-12-27T06:24:41.000Z  1872529015665578451   \n",
       "1  2024-12-27T06:05:44.000Z  1872524243663208448   \n",
       "2  2024-12-26T17:33:11.000Z  1872334860813287578   \n",
       "3  2024-12-26T09:11:34.000Z  1872208623931412928   \n",
       "4  2024-12-26T09:08:59.000Z  1872207973826846911   \n",
       "\n",
       "                                   referenced_tweets  \\\n",
       "0                                                NaN   \n",
       "1  [{'type': 'replied_to', 'id': '187251860694228...   \n",
       "2                                                NaN   \n",
       "3  [{'type': 'quoted', 'id': '1871689823427387878'}]   \n",
       "4  [{'type': 'replied_to', 'id': '187184888547321...   \n",
       "\n",
       "                                            entities  \\\n",
       "0                                                NaN   \n",
       "1                                                NaN   \n",
       "2  {'urls': [{'start': 210, 'end': 233, 'url': 'h...   \n",
       "3  {'urls': [{'start': 248, 'end': 271, 'url': 'h...   \n",
       "4  {'mentions': [{'start': 0, 'end': 13, 'usernam...   \n",
       "\n",
       "                                 attachments  \n",
       "0                                        NaN  \n",
       "1                                        NaN  \n",
       "2  {'media_keys': ['3_1872334672711016448']}  \n",
       "3                                        NaN  \n",
       "4                                        NaN  "
      ]
     },
     "execution_count": 17,
     "metadata": {},
     "output_type": "execute_result"
    }
   ],
   "source": [
    "# Set your folder path\n",
    "folder_path = '/Users/user/Documents/cerebrum-assignment/data/raw/CerebrumDAO_Public_Information/twitter_data'  # Update if needed\n",
    "\n",
    "all_tweets = []\n",
    "\n",
    "# Loop through all JSON files in the folder\n",
    "for filename in os.listdir(folder_path):\n",
    "    if filename.endswith('.json') and 'tweet' in filename.lower():\n",
    "        file_path = os.path.join(folder_path, filename)\n",
    "        with open(file_path, 'r', encoding='utf-8') as f:\n",
    "            try:\n",
    "                data = json.load(f)\n",
    "                # Check if it's a dict with a \"tweets\" key that is a list\n",
    "                if isinstance(data, dict) and \"tweets\" in data and isinstance(data[\"tweets\"], list):\n",
    "                    all_tweets.extend(data[\"tweets\"])\n",
    "                else:\n",
    "                    print(f\"Skipped {filename}: not a dict with a 'tweets' list.\")\n",
    "            except Exception as e:\n",
    "                print(f\"Error loading {filename}: {e}\")\n",
    "\n",
    "# Convert to DataFrame\n",
    "df = pd.DataFrame(all_tweets)\n",
    "\n",
    "print(f\"Loaded {len(df)} tweets from {folder_path}\")\n",
    "df.head()"
   ]
  },
  {
   "cell_type": "code",
   "execution_count": 18,
   "id": "42f146b0-2375-481d-ab26-5df3cbac862b",
   "metadata": {},
   "outputs": [
    {
     "data": {
      "text/html": [
       "<div>\n",
       "<style scoped>\n",
       "    .dataframe tbody tr th:only-of-type {\n",
       "        vertical-align: middle;\n",
       "    }\n",
       "\n",
       "    .dataframe tbody tr th {\n",
       "        vertical-align: top;\n",
       "    }\n",
       "\n",
       "    .dataframe thead th {\n",
       "        text-align: right;\n",
       "    }\n",
       "</style>\n",
       "<table border=\"1\" class=\"dataframe\">\n",
       "  <thead>\n",
       "    <tr style=\"text-align: right;\">\n",
       "      <th></th>\n",
       "      <th>public_metrics</th>\n",
       "      <th>edit_history_tweet_ids</th>\n",
       "      <th>text</th>\n",
       "      <th>created_at</th>\n",
       "      <th>id</th>\n",
       "      <th>referenced_tweets</th>\n",
       "      <th>entities</th>\n",
       "      <th>attachments</th>\n",
       "    </tr>\n",
       "  </thead>\n",
       "  <tbody>\n",
       "    <tr>\n",
       "      <th>0</th>\n",
       "      <td>{'retweet_count': 1, 'reply_count': 8, 'like_c...</td>\n",
       "      <td>[1872529015665578451]</td>\n",
       "      <td>gm 🧠</td>\n",
       "      <td>2024-12-27T06:24:41.000Z</td>\n",
       "      <td>1872529015665578451</td>\n",
       "      <td>NaN</td>\n",
       "      <td>NaN</td>\n",
       "      <td>NaN</td>\n",
       "    </tr>\n",
       "    <tr>\n",
       "      <th>1</th>\n",
       "      <td>{'retweet_count': 0, 'reply_count': 1, 'like_c...</td>\n",
       "      <td>[1872524243663208448]</td>\n",
       "      <td>@rugunicorn Yes</td>\n",
       "      <td>2024-12-27T06:05:44.000Z</td>\n",
       "      <td>1872524243663208448</td>\n",
       "      <td>[{'type': 'replied_to', 'id': '187251860694228...</td>\n",
       "      <td>NaN</td>\n",
       "      <td>NaN</td>\n",
       "    </tr>\n",
       "    <tr>\n",
       "      <th>2</th>\n",
       "      <td>{'retweet_count': 35, 'reply_count': 15, 'like...</td>\n",
       "      <td>[1872334860813287578]</td>\n",
       "      <td>$NEURON is Now Live on Base! 🧠\\n\\nFollowing th...</td>\n",
       "      <td>2024-12-26T17:33:11.000Z</td>\n",
       "      <td>1872334860813287578</td>\n",
       "      <td>NaN</td>\n",
       "      <td>{'urls': [{'start': 210, 'end': 233, 'url': 'h...</td>\n",
       "      <td>{'media_keys': ['3_1872334672711016448']}</td>\n",
       "    </tr>\n",
       "    <tr>\n",
       "      <th>3</th>\n",
       "      <td>{'retweet_count': 15, 'reply_count': 5, 'like_...</td>\n",
       "      <td>[1872208623931412928]</td>\n",
       "      <td>It's just heartwarming seeing how much each Bi...</td>\n",
       "      <td>2024-12-26T09:11:34.000Z</td>\n",
       "      <td>1872208623931412928</td>\n",
       "      <td>[{'type': 'quoted', 'id': '1871689823427387878'}]</td>\n",
       "      <td>{'urls': [{'start': 248, 'end': 271, 'url': 'h...</td>\n",
       "      <td>NaN</td>\n",
       "    </tr>\n",
       "    <tr>\n",
       "      <th>4</th>\n",
       "      <td>{'retweet_count': 0, 'reply_count': 0, 'like_c...</td>\n",
       "      <td>[1872207973826846911]</td>\n",
       "      <td>@BitgetWallet @bioprotocol @pumpdotscience @vi...</td>\n",
       "      <td>2024-12-26T09:08:59.000Z</td>\n",
       "      <td>1872207973826846911</td>\n",
       "      <td>[{'type': 'replied_to', 'id': '187184888547321...</td>\n",
       "      <td>{'mentions': [{'start': 0, 'end': 13, 'usernam...</td>\n",
       "      <td>NaN</td>\n",
       "    </tr>\n",
       "  </tbody>\n",
       "</table>\n",
       "</div>"
      ],
      "text/plain": [
       "                                      public_metrics edit_history_tweet_ids  \\\n",
       "0  {'retweet_count': 1, 'reply_count': 8, 'like_c...  [1872529015665578451]   \n",
       "1  {'retweet_count': 0, 'reply_count': 1, 'like_c...  [1872524243663208448]   \n",
       "2  {'retweet_count': 35, 'reply_count': 15, 'like...  [1872334860813287578]   \n",
       "3  {'retweet_count': 15, 'reply_count': 5, 'like_...  [1872208623931412928]   \n",
       "4  {'retweet_count': 0, 'reply_count': 0, 'like_c...  [1872207973826846911]   \n",
       "\n",
       "                                                text  \\\n",
       "0                                               gm 🧠   \n",
       "1                                    @rugunicorn Yes   \n",
       "2  $NEURON is Now Live on Base! 🧠\\n\\nFollowing th...   \n",
       "3  It's just heartwarming seeing how much each Bi...   \n",
       "4  @BitgetWallet @bioprotocol @pumpdotscience @vi...   \n",
       "\n",
       "                 created_at                   id  \\\n",
       "0  2024-12-27T06:24:41.000Z  1872529015665578451   \n",
       "1  2024-12-27T06:05:44.000Z  1872524243663208448   \n",
       "2  2024-12-26T17:33:11.000Z  1872334860813287578   \n",
       "3  2024-12-26T09:11:34.000Z  1872208623931412928   \n",
       "4  2024-12-26T09:08:59.000Z  1872207973826846911   \n",
       "\n",
       "                                   referenced_tweets  \\\n",
       "0                                                NaN   \n",
       "1  [{'type': 'replied_to', 'id': '187251860694228...   \n",
       "2                                                NaN   \n",
       "3  [{'type': 'quoted', 'id': '1871689823427387878'}]   \n",
       "4  [{'type': 'replied_to', 'id': '187184888547321...   \n",
       "\n",
       "                                            entities  \\\n",
       "0                                                NaN   \n",
       "1                                                NaN   \n",
       "2  {'urls': [{'start': 210, 'end': 233, 'url': 'h...   \n",
       "3  {'urls': [{'start': 248, 'end': 271, 'url': 'h...   \n",
       "4  {'mentions': [{'start': 0, 'end': 13, 'usernam...   \n",
       "\n",
       "                                 attachments  \n",
       "0                                        NaN  \n",
       "1                                        NaN  \n",
       "2  {'media_keys': ['3_1872334672711016448']}  \n",
       "3                                        NaN  \n",
       "4                                        NaN  "
      ]
     },
     "execution_count": 18,
     "metadata": {},
     "output_type": "execute_result"
    }
   ],
   "source": [
    "# Show the first 5 rows\n",
    "df.head()"
   ]
  },
  {
   "cell_type": "code",
   "execution_count": 19,
   "id": "83affd9a-71eb-46c3-85b0-0074e98812e8",
   "metadata": {},
   "outputs": [
    {
     "data": {
      "text/plain": [
       "['public_metrics',\n",
       " 'edit_history_tweet_ids',\n",
       " 'text',\n",
       " 'created_at',\n",
       " 'id',\n",
       " 'referenced_tweets',\n",
       " 'entities',\n",
       " 'attachments']"
      ]
     },
     "execution_count": 19,
     "metadata": {},
     "output_type": "execute_result"
    }
   ],
   "source": [
    "# List all columns\n",
    "df.columns.tolist()"
   ]
  },
  {
   "cell_type": "code",
   "execution_count": 21,
   "id": "86dddb30-3350-4598-b9b0-9a0124396146",
   "metadata": {},
   "outputs": [
    {
     "name": "stdout",
     "output_type": "stream",
     "text": [
      "Total tweets: 592\n"
     ]
    }
   ],
   "source": [
    "# Total number of tweets\n",
    "print(\"Total tweets:\", len(df))\n",
    "\n",
    "# Number of unique users (if 'author_id' or similar exists)\n",
    "if 'author_id' in df.columns:\n",
    "    print(\"Unique users:\", df['author_id'].nunique())"
   ]
  },
  {
   "cell_type": "code",
   "execution_count": 22,
   "id": "9a94b2cf-255d-49d4-adfc-1dffde19b8f2",
   "metadata": {},
   "outputs": [
    {
     "name": "stdout",
     "output_type": "stream",
     "text": [
      "Most liked tweet:\n",
      "                                                text  like_count\n",
      "2  $NEURON is Now Live on Base! 🧠\\n\\nFollowing th...         203\n",
      "\n",
      "Most retweeted tweet:\n",
      "                                                  text  retweet_count\n",
      "126  RT @cz_binance: Learning at a small gathering ...           1593\n"
     ]
    }
   ],
   "source": [
    "# Most liked tweet\n",
    "if 'public_metrics' in df.columns:\n",
    "    df['like_count'] = df['public_metrics'].apply(lambda x: x.get('like_count', 0) if isinstance(x, dict) else 0)\n",
    "    df['retweet_count'] = df['public_metrics'].apply(lambda x: x.get('retweet_count', 0) if isinstance(x, dict) else 0)\n",
    "\n",
    "    most_liked = df.sort_values('like_count', ascending=False).head(1)\n",
    "    print(\"Most liked tweet:\")\n",
    "    print(most_liked[['text', 'like_count']])\n",
    "\n",
    "    most_retweeted = df.sort_values('retweet_count', ascending=False).head(1)\n",
    "    print(\"\\nMost retweeted tweet:\")\n",
    "    print(most_retweeted[['text', 'retweet_count']])"
   ]
  },
  {
   "cell_type": "code",
   "execution_count": 23,
   "id": "d9e18406-ed53-469a-89a3-12eb24b772f3",
   "metadata": {},
   "outputs": [
    {
     "name": "stderr",
     "output_type": "stream",
     "text": [
      "Matplotlib is building the font cache; this may take a moment.\n"
     ]
    },
    {
     "data": {
      "image/png": "[encoded data removed]",
      "text/plain": [
       "<Figure size 1200x400 with 1 Axes>"
      ]
     },
     "metadata": {},
     "output_type": "display_data"
    }
   ],
   "source": [
    "# Convert 'created_at' to datetime\n",
    "df['created_at'] = pd.to_datetime(df['created_at'])\n",
    "\n",
    "# Group by date\n",
    "tweets_per_day = df.groupby(df['created_at'].dt.date).size()\n",
    "\n",
    "# Plot (if you have matplotlib installed)\n",
    "import matplotlib.pyplot as plt\n",
    "\n",
    "tweets_per_day.plot(kind='bar', figsize=(12, 4))\n",
    "plt.title('Tweets per Day')\n",
    "plt.xlabel('Date')\n",
    "plt.ylabel('Number of Tweets')\n",
    "plt.tight_layout()\n",
    "plt.show()"
   ]
  },
  {
   "cell_type": "code",
   "execution_count": 26,
   "id": "2f39b784-915a-4299-ab2e-a2d60def68a5",
   "metadata": {},
   "outputs": [],
   "source": [
    "import textblob\n",
    "from textblob import TextBlob\n",
    "if 'text' in df.columns:\n",
    "    df['polarity'] = df['text'].apply(lambda x: TextBlob(x).sentiment.polarity)\n",
    "    df['subjectivity'] = df['text'].apply(lambda x: TextBlob(x).sentiment.subjectivity)\n",
    "else:\n",
    "    print(\"No 'text' column found in your DataFrame.\")"
   ]
  },
  {
   "cell_type": "code",
   "execution_count": 27,
   "id": "f0118da9-c05e-447b-aaf0-eaee04f1c5d3",
   "metadata": {},
   "outputs": [
    {
     "data": {
      "text/html": [
       "<div>\n",
       "<style scoped>\n",
       "    .dataframe tbody tr th:only-of-type {\n",
       "        vertical-align: middle;\n",
       "    }\n",
       "\n",
       "    .dataframe tbody tr th {\n",
       "        vertical-align: top;\n",
       "    }\n",
       "\n",
       "    .dataframe thead th {\n",
       "        text-align: right;\n",
       "    }\n",
       "</style>\n",
       "<table border=\"1\" class=\"dataframe\">\n",
       "  <thead>\n",
       "    <tr style=\"text-align: right;\">\n",
       "      <th></th>\n",
       "      <th>text</th>\n",
       "      <th>polarity</th>\n",
       "      <th>subjectivity</th>\n",
       "    </tr>\n",
       "  </thead>\n",
       "  <tbody>\n",
       "    <tr>\n",
       "      <th>0</th>\n",
       "      <td>gm 🧠</td>\n",
       "      <td>0.000000</td>\n",
       "      <td>0.000000</td>\n",
       "    </tr>\n",
       "    <tr>\n",
       "      <th>1</th>\n",
       "      <td>@rugunicorn Yes</td>\n",
       "      <td>0.000000</td>\n",
       "      <td>0.000000</td>\n",
       "    </tr>\n",
       "    <tr>\n",
       "      <th>2</th>\n",
       "      <td>$NEURON is Now Live on Base! 🧠\\n\\nFollowing th...</td>\n",
       "      <td>-0.415909</td>\n",
       "      <td>0.650000</td>\n",
       "    </tr>\n",
       "    <tr>\n",
       "      <th>3</th>\n",
       "      <td>It's just heartwarming seeing how much each Bi...</td>\n",
       "      <td>0.137273</td>\n",
       "      <td>0.350909</td>\n",
       "    </tr>\n",
       "    <tr>\n",
       "      <th>4</th>\n",
       "      <td>@BitgetWallet @bioprotocol @pumpdotscience @vi...</td>\n",
       "      <td>0.000000</td>\n",
       "      <td>1.000000</td>\n",
       "    </tr>\n",
       "  </tbody>\n",
       "</table>\n",
       "</div>"
      ],
      "text/plain": [
       "                                                text  polarity  subjectivity\n",
       "0                                               gm 🧠  0.000000      0.000000\n",
       "1                                    @rugunicorn Yes  0.000000      0.000000\n",
       "2  $NEURON is Now Live on Base! 🧠\\n\\nFollowing th... -0.415909      0.650000\n",
       "3  It's just heartwarming seeing how much each Bi...  0.137273      0.350909\n",
       "4  @BitgetWallet @bioprotocol @pumpdotscience @vi...  0.000000      1.000000"
      ]
     },
     "execution_count": 27,
     "metadata": {},
     "output_type": "execute_result"
    }
   ],
   "source": [
    "# Show a few tweets with their sentiment scores\n",
    "df[['text', 'polarity', 'subjectivity']].head()"
   ]
  },
  {
   "cell_type": "code",
   "execution_count": 28,
   "id": "2bdc5040-b9e2-4a0b-a7f3-0590c9dd3f33",
   "metadata": {},
   "outputs": [
    {
     "name": "stdout",
     "output_type": "stream",
     "text": [
      "Average polarity: 0.17309108618190647\n",
      "Average subjectivity: 0.38629615887428387\n"
     ]
    }
   ],
   "source": [
    "print(\"Average polarity:\", df['polarity'].mean())\n",
    "print(\"Average subjectivity:\", df['subjectivity'].mean())"
   ]
  },
  {
   "cell_type": "code",
   "execution_count": 29,
   "id": "40d0c4c3-672f-4d12-ad00-be30d3a34622",
   "metadata": {},
   "outputs": [
    {
     "data": {
      "image/png": "[encoded data removed]",
      "text/plain": [
       "<Figure size 1000x400 with 1 Axes>"
      ]
     },
     "metadata": {},
     "output_type": "display_data"
    }
   ],
   "source": [
    "import matplotlib.pyplot as plt\n",
    "\n",
    "plt.figure(figsize=(10,4))\n",
    "df['polarity'].hist(bins=30)\n",
    "plt.title('Sentiment Polarity Distribution')\n",
    "plt.xlabel('Polarity')\n",
    "plt.ylabel('Number of Tweets')\n",
    "plt.show()"
   ]
  },
  {
   "cell_type": "code",
   "execution_count": 30,
   "id": "eb0c24aa-02e4-41c3-894d-537d7f8f76f3",
   "metadata": {},
   "outputs": [
    {
     "name": "stdout",
     "output_type": "stream",
     "text": [
      "Most positive tweet:\n",
      "@notthreadguy It’s also the best use case for crypto 🧠\n",
      "\n",
      "Most negative tweet:\n",
      "RT @TrillionHubz: 🔥Top-tier #DeSci Projects launched on $BIO @bioprotocol rank by MarketCap 🧬\n",
      "\n",
      "1. $VITA @vita_dao - MC: $30M\n",
      "2. $HAIR @Hair…\n"
     ]
    }
   ],
   "source": [
    "print(\"Most positive tweet:\")\n",
    "print(df.loc[df['polarity'].idxmax()]['text'])\n",
    "\n",
    "print(\"\\nMost negative tweet:\")\n",
    "print(df.loc[df['polarity'].idxmin()]['text'])"
   ]
  }
 ],
 "metadata": {
  "kernelspec": {
   "display_name": "cerebrum_env",
   "language": "python",
   "name": "cerebrum_env"
  },
  "language_info": {
   "codemirror_mode": {
    "name": "ipython",
    "version": 3
   },
   "file_extension": ".py",
   "mimetype": "text/x-python",
   "name": "python",
   "nbconvert_exporter": "python",
   "pygments_lexer": "ipython3",
   "version": "3.13.2"
  }
 },
 "nbformat": 4,
 "nbformat_minor": 5
}
